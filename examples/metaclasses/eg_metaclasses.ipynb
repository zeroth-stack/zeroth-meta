{
 "cells": [
  {
   "cell_type": "code",
   "execution_count": 7,
   "metadata": {},
   "outputs": [],
   "source": [
    "import sys\n",
    "sys.path.append(\"C:\\\\Users\\\\raman\\\\zeroth\\\\zeroth-meta\\\\\")"
   ]
  },
  {
   "cell_type": "code",
   "execution_count": 8,
   "metadata": {},
   "outputs": [],
   "source": [
    "from zpmeta.metaclasses.metaclasses import MultitonType"
   ]
  },
  {
   "cell_type": "code",
   "execution_count": 9,
   "metadata": {},
   "outputs": [],
   "source": [
    "class MyClass(metaclass=MultitonType.with_key(\"params\")):\n",
    "    def __init__(self, params): # params is a dictionary\n",
    "        self.params = params\n",
    "\n",
    "    def __str__(self):\n",
    "        return f\"MyClass({self.params})\"\n"
   ]
  },
  {
   "cell_type": "code",
   "execution_count": 10,
   "metadata": {},
   "outputs": [
    {
     "ename": "TypeError",
     "evalue": "descriptor '__call__' of 'type' object needs an argument",
     "output_type": "error",
     "traceback": [
      "\u001b[1;31m---------------------------------------------------------------------------\u001b[0m",
      "\u001b[1;31mTypeError\u001b[0m                                 Traceback (most recent call last)",
      "Cell \u001b[1;32mIn[10], line 1\u001b[0m\n\u001b[1;32m----> 1\u001b[0m m1 \u001b[39m=\u001b[39m MyClass(params\u001b[39m=\u001b[39;49m{\u001b[39m\"\u001b[39;49m\u001b[39ma\u001b[39;49m\u001b[39m\"\u001b[39;49m: \u001b[39m1\u001b[39;49m, \u001b[39m\"\u001b[39;49m\u001b[39mb\u001b[39;49m\u001b[39m\"\u001b[39;49m: \u001b[39m2\u001b[39;49m})\n",
      "File \u001b[1;32m~\\zeroth\\zeroth-meta\\src\\MultitonType.py:32\u001b[0m, in \u001b[0;36mMultitonType.__call__\u001b[1;34m(cls, *args, **kwargs)\u001b[0m\n\u001b[0;32m     30\u001b[0m \u001b[39m# if the class is not in the instance dictionary, add it using the representation as the key\u001b[39;00m\n\u001b[0;32m     31\u001b[0m \u001b[39mif\u001b[39;00m instance_key \u001b[39mnot\u001b[39;00m \u001b[39min\u001b[39;00m \u001b[39mcls\u001b[39m\u001b[39m.\u001b[39m_instances:\n\u001b[1;32m---> 32\u001b[0m     \u001b[39mcls\u001b[39m\u001b[39m.\u001b[39m_instances[instance_key] \u001b[39m=\u001b[39m \u001b[39msuper\u001b[39m(MultitonType, \u001b[39mcls\u001b[39m)\u001b[39m.\u001b[39m\u001b[39m__call__\u001b[39m(\u001b[39m*\u001b[39margs, \u001b[39m*\u001b[39m\u001b[39m*\u001b[39mkwargs)\n\u001b[0;32m     34\u001b[0m \u001b[39m# return the instance of the class\u001b[39;00m\n\u001b[0;32m     35\u001b[0m \u001b[39mreturn\u001b[39;00m \u001b[39mcls\u001b[39m\u001b[39m.\u001b[39m_instances[instance_key]\n",
      "\u001b[1;31mTypeError\u001b[0m: descriptor '__call__' of 'type' object needs an argument"
     ]
    }
   ],
   "source": [
    "m1 = MyClass(params={\"a\": 1, \"b\": 2})"
   ]
  }
 ],
 "metadata": {
  "kernelspec": {
   "display_name": "base",
   "language": "python",
   "name": "python3"
  },
  "language_info": {
   "codemirror_mode": {
    "name": "ipython",
    "version": 3
   },
   "file_extension": ".py",
   "mimetype": "text/x-python",
   "name": "python",
   "nbconvert_exporter": "python",
   "pygments_lexer": "ipython3",
   "version": "3.10.9"
  },
  "orig_nbformat": 4
 },
 "nbformat": 4,
 "nbformat_minor": 2
}
